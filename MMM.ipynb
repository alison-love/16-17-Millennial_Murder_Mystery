{
 "cells": [
  {
   "cell_type": "code",
   "execution_count": 1,
   "metadata": {},
   "outputs": [],
   "source": [
    "from pdf2image import convert_from_path\n",
    "import os\n",
    "\n",
    "# Define the paths to the directory containing the PDF files and the output directory\n",
    "pdfs_path = '/Users/alisonlove/Bootcamp/Millennial_Murder_Mystery/pdf-files'\n",
    "images_output_path = '/Users/alisonlove/Bootcamp/Millennial_Murder_Mystery/pdf-image-files'\n",
    "\n",
    "\n",
    "# Get a list of all the PDF filenames\n",
    "pdf_files = [f for f in os.listdir(pdfs_path) if f.endswith('.pdf')]\n",
    "\n",
    "# Process each PDF\n",
    "for pdf_file in pdf_files:\n",
    "    # Full path to your PDF file\n",
    "    full_pdf_path = os.path.join(pdfs_path, pdf_file)\n",
    "    \n",
    "    # Convert each page in the PDF to an image\n",
    "    pages = convert_from_path(full_pdf_path, 500)\n",
    "\n",
    "    # Create a subdirectory for the current PDF's images\n",
    "    pdf_images_path = os.path.join(images_output_path, os.path.splitext(pdf_file)[0])\n",
    "    os.makedirs(pdf_images_path, exist_ok=True)\n",
    "    \n",
    "    # Save each page as an image file\n",
    "    for i, page in enumerate(pages):\n",
    "        image_filename = f'page_{i}.jpg'\n",
    "        image_path = os.path.join(pdf_images_path, image_filename)\n",
    "        page.save(image_path, 'JPEG')\n"
   ]
  },
  {
   "cell_type": "code",
   "execution_count": 7,
   "metadata": {},
   "outputs": [],
   "source": [
    "import pytesseract\n",
    "from PIL import Image\n",
    "import os\n",
    "\n",
    "images_output_path = '/Users/alisonlove/Bootcamp/Millennial_Murder_Mystery/pdf-image-files'\n",
    "text_output_path = '/Users/alisonlove/Bootcamp/Millennial_Murder_Mystery/pdf-text-files'\n",
    "\n",
    "# Loop through all subdirectories in 'images_output_path'\n",
    "for subdir in os.listdir(images_output_path):\n",
    "    image_subdir_path = os.path.join(images_output_path, subdir)\n",
    "    text_subdir_path = os.path.join(text_output_path, subdir)\n",
    "    os.makedirs(text_subdir_path, exist_ok=True)\n",
    "\n",
    "    # Check if it's indeed a directory\n",
    "    if os.path.isdir(image_subdir_path):\n",
    "        # Loop through all the saved images in each subdirectory\n",
    "        for image_filename in os.listdir(image_subdir_path):\n",
    "            image_path = os.path.join(image_subdir_path, image_filename)\n",
    "\n",
    "            # Check if the current item is a file and an image\n",
    "            if os.path.isfile(image_path) and image_filename.lower().endswith(('.jpg')):\n",
    "                # Perform OCR on the image\n",
    "                img = Image.open(image_path)\n",
    "                text = pytesseract.image_to_string(img)\n",
    "\n",
    "                # Save or process the extracted text\n",
    "                text_filename = f'{os.path.splitext(image_filename)[0]}.txt'\n",
    "                text_path = os.path.join(text_subdir_path, text_filename)\n",
    "                with open(text_path, 'w') as text_file:\n",
    "                    text_file.write(text)\n"
   ]
  },
  {
   "cell_type": "code",
   "execution_count": null,
   "metadata": {},
   "outputs": [],
   "source": []
  }
 ],
 "metadata": {
  "kernelspec": {
   "display_name": "base",
   "language": "python",
   "name": "python3"
  },
  "language_info": {
   "codemirror_mode": {
    "name": "ipython",
    "version": 3
   },
   "file_extension": ".py",
   "mimetype": "text/x-python",
   "name": "python",
   "nbconvert_exporter": "python",
   "pygments_lexer": "ipython3",
   "version": "3.11.5"
  }
 },
 "nbformat": 4,
 "nbformat_minor": 2
}
